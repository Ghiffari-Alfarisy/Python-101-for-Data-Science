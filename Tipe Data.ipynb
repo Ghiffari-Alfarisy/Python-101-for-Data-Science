{
 "cells": [
  {
   "cell_type": "code",
   "execution_count": 1,
   "metadata": {},
   "outputs": [],
   "source": [
    "# tipe data string\n",
    "nama = 'Ghiffari Alfarisy'"
   ]
  },
  {
   "cell_type": "code",
   "execution_count": 2,
   "metadata": {},
   "outputs": [],
   "source": [
    "# tipe data integer\n",
    "umur = 17"
   ]
  },
  {
   "cell_type": "code",
   "execution_count": 11,
   "metadata": {},
   "outputs": [],
   "source": [
    "# tipe data floa\n",
    "tinggi = 175.5"
   ]
  },
  {
   "cell_type": "code",
   "execution_count": 3,
   "metadata": {},
   "outputs": [],
   "source": [
    "# tipe data boolean\n",
    "benar = True\n",
    "salah = False"
   ]
  },
  {
   "cell_type": "code",
   "execution_count": 4,
   "metadata": {},
   "outputs": [],
   "source": [
    "# tipe data array atau list pada python\n",
    "nilai = [1,2,3,4,5]"
   ]
  },
  {
   "cell_type": "code",
   "execution_count": 7,
   "metadata": {},
   "outputs": [],
   "source": [
    "#tipe data object atau dictionary pada python\n",
    "contoh = {\n",
    "    'key1':'value 1',\n",
    "    'key2':'value 2',\n",
    "    'key3':'value 3'\n",
    "}"
   ]
  },
  {
   "cell_type": "code",
   "execution_count": 12,
   "metadata": {},
   "outputs": [
    {
     "name": "stdout",
     "output_type": "stream",
     "text": [
      "Ghiffari Alfarisy\n",
      "==========\n",
      "17\n",
      "==========\n",
      "175.5\n",
      "==========\n",
      "True\n",
      "==========\n",
      "False\n",
      "==========\n",
      "{'key1': 'value 1', 'key2': 'value 2', 'key3': 'value 3'}\n",
      "==========\n"
     ]
    }
   ],
   "source": [
    "print(nama)\n",
    "print('==========')\n",
    "print(umur)\n",
    "print('==========')\n",
    "print(tinggi)\n",
    "print('==========')\n",
    "print(benar)\n",
    "print('==========')\n",
    "print(salah)\n",
    "print('==========')\n",
    "print(contoh)\n",
    "print('==========')"
   ]
  },
  {
   "cell_type": "code",
   "execution_count": null,
   "metadata": {},
   "outputs": [],
   "source": []
  }
 ],
 "metadata": {
  "kernelspec": {
   "display_name": "Python 3",
   "language": "python",
   "name": "python3"
  },
  "language_info": {
   "codemirror_mode": {
    "name": "ipython",
    "version": 3
   },
   "file_extension": ".py",
   "mimetype": "text/x-python",
   "name": "python",
   "nbconvert_exporter": "python",
   "pygments_lexer": "ipython3",
   "version": "3.8.3"
  }
 },
 "nbformat": 4,
 "nbformat_minor": 4
}
