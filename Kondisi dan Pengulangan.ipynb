{
 "cells": [
  {
   "cell_type": "code",
   "execution_count": 1,
   "metadata": {},
   "outputs": [
    {
     "name": "stdout",
     "output_type": "stream",
     "text": [
      "Nilai1 kurang dari nilai2\n"
     ]
    }
   ],
   "source": [
    "nilai1 = 70\n",
    "nilai2 = 80\n",
    "\n",
    "if(nilai1 < nilai2):\n",
    "    print(\"Nilai1 kurang dari nilai2\")\n",
    "else:\n",
    "    print(\"Nilai1 lebih besar dari nilai2\")\n",
    "    "
   ]
  },
  {
   "cell_type": "code",
   "execution_count": 3,
   "metadata": {},
   "outputs": [
    {
     "name": "stdout",
     "output_type": "stream",
     "text": [
      "Nilai1 dan nilai2 sama\n"
     ]
    }
   ],
   "source": [
    "nilai1 = 80\n",
    "nilai2 = 80\n",
    "\n",
    "if(nilai1 < nilai2):\n",
    "    print(\"Nilai1 kurang dari nilai2\")\n",
    "elif(nilai1==nilai2):\n",
    "    print('Nilai1 dan nilai2 sama')\n",
    "else:\n",
    "    print(\"Nilai1 lebih besar dari nilai2\")\n",
    "    "
   ]
  },
  {
   "cell_type": "code",
   "execution_count": 4,
   "metadata": {},
   "outputs": [
    {
     "name": "stdout",
     "output_type": "stream",
     "text": [
      "1\n",
      "2\n",
      "3\n",
      "4\n",
      "5\n",
      "6\n",
      "7\n",
      "8\n",
      "9\n",
      "10\n"
     ]
    }
   ],
   "source": [
    "num = [1,2,3,4,5,6,7,8,9,10]\n",
    "jumlah = len(num)\n",
    "for i in range(0,jumlah):\n",
    "    print(num[i])"
   ]
  },
  {
   "cell_type": "code",
   "execution_count": 7,
   "metadata": {},
   "outputs": [
    {
     "name": "stdout",
     "output_type": "stream",
     "text": [
      "satu\n",
      "dua\n",
      "tiga\n"
     ]
    }
   ],
   "source": [
    "num1 = ['satu','dua','tiga']\n",
    "for i in num1:\n",
    "    print(i)"
   ]
  },
  {
   "cell_type": "code",
   "execution_count": null,
   "metadata": {},
   "outputs": [],
   "source": []
  }
 ],
 "metadata": {
  "kernelspec": {
   "display_name": "Python 3",
   "language": "python",
   "name": "python3"
  },
  "language_info": {
   "codemirror_mode": {
    "name": "ipython",
    "version": 3
   },
   "file_extension": ".py",
   "mimetype": "text/x-python",
   "name": "python",
   "nbconvert_exporter": "python",
   "pygments_lexer": "ipython3",
   "version": "3.8.3"
  }
 },
 "nbformat": 4,
 "nbformat_minor": 4
}
